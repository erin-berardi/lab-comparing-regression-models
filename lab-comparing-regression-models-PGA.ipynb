{
 "cells": [
  {
   "cell_type": "markdown",
   "id": "99393c43",
   "metadata": {},
   "source": [
    "# Lab-comparing-regression-models"
   ]
  },
  {
   "cell_type": "code",
   "execution_count": 16,
   "id": "dd75fe6c",
   "metadata": {},
   "outputs": [],
   "source": [
    "import math\n",
    "import pandas as pd\n",
    "from sklearn.model_selection import train_test_split\n",
    "from sklearn.linear_model import LinearRegression\n",
    "from sklearn.neighbors import KNeighborsRegressor\n",
    "from sklearn.metrics import r2_score, mean_squared_error, mean_absolute_error"
   ]
  },
  {
   "cell_type": "code",
   "execution_count": 11,
   "id": "660ad3e6",
   "metadata": {},
   "outputs": [],
   "source": [
    "# Instructions\n",
    "# 1. Concatenate Numerical and Categorical dataframes into one dataframe called data.\n",
    "\n",
    "# 2. In this final lab, we will model our data. Import sklearn train_test_split and separate the data.\n",
    "\n",
    "# 3. Separate X_train and X_test into numerical and categorical (X_train_cat , X_train_num , X_test_cat , X_test_num)\n",
    "\n",
    "# 8. Try a simple linear regression with all the data to see whether we are getting good results.\n",
    "\n",
    "# 9. Great! Now define a function that takes a list of models and train (and tests) them so we can try a lot of them without repeating code.\n",
    "\n",
    "# 10. Use the function to check LinearRegressor and KNeighborsRegressor.\n",
    "\n",
    "# 11. You can check also the MLPRegressor for this task!\n",
    "\n",
    "# 12. Check and discuss the results."
   ]
  },
  {
   "cell_type": "code",
   "execution_count": 12,
   "id": "2c33449f",
   "metadata": {},
   "outputs": [
    {
     "name": "stdout",
     "output_type": "stream",
     "text": [
      "(7261, 43)\n"
     ]
    },
    {
     "data": {
      "text/html": [
       "<div>\n",
       "<style scoped>\n",
       "    .dataframe tbody tr th:only-of-type {\n",
       "        vertical-align: middle;\n",
       "    }\n",
       "\n",
       "    .dataframe tbody tr th {\n",
       "        vertical-align: top;\n",
       "    }\n",
       "\n",
       "    .dataframe thead th {\n",
       "        text-align: right;\n",
       "    }\n",
       "</style>\n",
       "<table border=\"1\" class=\"dataframe\">\n",
       "  <thead>\n",
       "    <tr style=\"text-align: right;\">\n",
       "      <th></th>\n",
       "      <th>0</th>\n",
       "      <th>1</th>\n",
       "      <th>2</th>\n",
       "      <th>3</th>\n",
       "      <th>4</th>\n",
       "      <th>5</th>\n",
       "      <th>6</th>\n",
       "      <th>coverage</th>\n",
       "      <th>employmentstatus</th>\n",
       "      <th>location_code</th>\n",
       "      <th>...</th>\n",
       "      <th>renew_offer_type_Offer3</th>\n",
       "      <th>renew_offer_type_Offer4</th>\n",
       "      <th>sales_channel_Agent</th>\n",
       "      <th>sales_channel_Branch</th>\n",
       "      <th>sales_channel_Call Center</th>\n",
       "      <th>sales_channel_Web</th>\n",
       "      <th>vehicle_class_Four-Door Car</th>\n",
       "      <th>vehicle_class_SUV</th>\n",
       "      <th>vehicle_class_Sports Car</th>\n",
       "      <th>vehicle_class_Two-Door Car</th>\n",
       "    </tr>\n",
       "  </thead>\n",
       "  <tbody>\n",
       "    <tr>\n",
       "      <th>0</th>\n",
       "      <td>-1.061661</td>\n",
       "      <td>0.576306</td>\n",
       "      <td>-0.769856</td>\n",
       "      <td>1.691296</td>\n",
       "      <td>-1.539658</td>\n",
       "      <td>-0.421835</td>\n",
       "      <td>-0.821412</td>\n",
       "      <td>0.0</td>\n",
       "      <td>1.0</td>\n",
       "      <td>1.0</td>\n",
       "      <td>...</td>\n",
       "      <td>0.0</td>\n",
       "      <td>0.0</td>\n",
       "      <td>1.0</td>\n",
       "      <td>0.0</td>\n",
       "      <td>0.0</td>\n",
       "      <td>0.0</td>\n",
       "      <td>0.0</td>\n",
       "      <td>0.0</td>\n",
       "      <td>0.0</td>\n",
       "      <td>1.0</td>\n",
       "    </tr>\n",
       "    <tr>\n",
       "      <th>1</th>\n",
       "      <td>2.370772</td>\n",
       "      <td>0.329297</td>\n",
       "      <td>1.051940</td>\n",
       "      <td>0.295717</td>\n",
       "      <td>-0.360311</td>\n",
       "      <td>-0.421835</td>\n",
       "      <td>-0.349518</td>\n",
       "      <td>2.0</td>\n",
       "      <td>1.0</td>\n",
       "      <td>1.0</td>\n",
       "      <td>...</td>\n",
       "      <td>0.0</td>\n",
       "      <td>0.0</td>\n",
       "      <td>1.0</td>\n",
       "      <td>0.0</td>\n",
       "      <td>0.0</td>\n",
       "      <td>0.0</td>\n",
       "      <td>0.0</td>\n",
       "      <td>0.0</td>\n",
       "      <td>0.0</td>\n",
       "      <td>1.0</td>\n",
       "    </tr>\n",
       "    <tr>\n",
       "      <th>2</th>\n",
       "      <td>0.593659</td>\n",
       "      <td>-1.275324</td>\n",
       "      <td>0.958514</td>\n",
       "      <td>0.295717</td>\n",
       "      <td>0.604609</td>\n",
       "      <td>-0.421835</td>\n",
       "      <td>2.009955</td>\n",
       "      <td>0.0</td>\n",
       "      <td>4.0</td>\n",
       "      <td>1.0</td>\n",
       "      <td>...</td>\n",
       "      <td>0.0</td>\n",
       "      <td>0.0</td>\n",
       "      <td>0.0</td>\n",
       "      <td>0.0</td>\n",
       "      <td>1.0</td>\n",
       "      <td>0.0</td>\n",
       "      <td>0.0</td>\n",
       "      <td>1.0</td>\n",
       "      <td>0.0</td>\n",
       "      <td>0.0</td>\n",
       "    </tr>\n",
       "    <tr>\n",
       "      <th>3</th>\n",
       "      <td>-1.044650</td>\n",
       "      <td>0.167048</td>\n",
       "      <td>-0.583005</td>\n",
       "      <td>-0.302389</td>\n",
       "      <td>-0.145885</td>\n",
       "      <td>-0.421835</td>\n",
       "      <td>-0.821412</td>\n",
       "      <td>0.0</td>\n",
       "      <td>1.0</td>\n",
       "      <td>0.0</td>\n",
       "      <td>...</td>\n",
       "      <td>0.0</td>\n",
       "      <td>0.0</td>\n",
       "      <td>1.0</td>\n",
       "      <td>0.0</td>\n",
       "      <td>0.0</td>\n",
       "      <td>0.0</td>\n",
       "      <td>1.0</td>\n",
       "      <td>0.0</td>\n",
       "      <td>0.0</td>\n",
       "      <td>0.0</td>\n",
       "    </tr>\n",
       "    <tr>\n",
       "      <th>4</th>\n",
       "      <td>0.800622</td>\n",
       "      <td>0.794392</td>\n",
       "      <td>-0.769856</td>\n",
       "      <td>-0.103020</td>\n",
       "      <td>1.641005</td>\n",
       "      <td>-0.421835</td>\n",
       "      <td>-0.349518</td>\n",
       "      <td>0.0</td>\n",
       "      <td>1.0</td>\n",
       "      <td>0.0</td>\n",
       "      <td>...</td>\n",
       "      <td>0.0</td>\n",
       "      <td>0.0</td>\n",
       "      <td>0.0</td>\n",
       "      <td>0.0</td>\n",
       "      <td>0.0</td>\n",
       "      <td>1.0</td>\n",
       "      <td>0.0</td>\n",
       "      <td>0.0</td>\n",
       "      <td>0.0</td>\n",
       "      <td>1.0</td>\n",
       "    </tr>\n",
       "  </tbody>\n",
       "</table>\n",
       "<p>5 rows × 43 columns</p>\n",
       "</div>"
      ],
      "text/plain": [
       "          0         1         2         3         4         5         6  \\\n",
       "0 -1.061661  0.576306 -0.769856  1.691296 -1.539658 -0.421835 -0.821412   \n",
       "1  2.370772  0.329297  1.051940  0.295717 -0.360311 -0.421835 -0.349518   \n",
       "2  0.593659 -1.275324  0.958514  0.295717  0.604609 -0.421835  2.009955   \n",
       "3 -1.044650  0.167048 -0.583005 -0.302389 -0.145885 -0.421835 -0.821412   \n",
       "4  0.800622  0.794392 -0.769856 -0.103020  1.641005 -0.421835 -0.349518   \n",
       "\n",
       "   coverage  employmentstatus  location_code  ...  renew_offer_type_Offer3  \\\n",
       "0       0.0               1.0            1.0  ...                      0.0   \n",
       "1       2.0               1.0            1.0  ...                      0.0   \n",
       "2       0.0               4.0            1.0  ...                      0.0   \n",
       "3       0.0               1.0            0.0  ...                      0.0   \n",
       "4       0.0               1.0            0.0  ...                      0.0   \n",
       "\n",
       "   renew_offer_type_Offer4  sales_channel_Agent  sales_channel_Branch  \\\n",
       "0                      0.0                  1.0                   0.0   \n",
       "1                      0.0                  1.0                   0.0   \n",
       "2                      0.0                  0.0                   0.0   \n",
       "3                      0.0                  1.0                   0.0   \n",
       "4                      0.0                  0.0                   0.0   \n",
       "\n",
       "   sales_channel_Call Center  sales_channel_Web  vehicle_class_Four-Door Car  \\\n",
       "0                        0.0                0.0                          0.0   \n",
       "1                        0.0                0.0                          0.0   \n",
       "2                        1.0                0.0                          0.0   \n",
       "3                        0.0                0.0                          1.0   \n",
       "4                        0.0                1.0                          0.0   \n",
       "\n",
       "   vehicle_class_SUV  vehicle_class_Sports Car  vehicle_class_Two-Door Car  \n",
       "0                0.0                       0.0                         1.0  \n",
       "1                0.0                       0.0                         1.0  \n",
       "2                1.0                       0.0                         0.0  \n",
       "3                0.0                       0.0                         0.0  \n",
       "4                0.0                       0.0                         1.0  \n",
       "\n",
       "[5 rows x 43 columns]"
      ]
     },
     "execution_count": 12,
     "metadata": {},
     "output_type": "execute_result"
    }
   ],
   "source": [
    "X = pd.read_csv('cat_num.csv',index_col=0)\n",
    "y = pd.read_csv('total_claim_amount.csv', index_col=0)\n",
    "X = X.drop(['day', 'month', 'year'], axis=1)\n",
    "print(X.shape)\n",
    "X.head()"
   ]
  },
  {
   "cell_type": "code",
   "execution_count": 13,
   "id": "4bcf6e1b",
   "metadata": {},
   "outputs": [
    {
     "name": "stdout",
     "output_type": "stream",
     "text": [
      "(7261, 1)\n"
     ]
    },
    {
     "data": {
      "text/html": [
       "<div>\n",
       "<style scoped>\n",
       "    .dataframe tbody tr th:only-of-type {\n",
       "        vertical-align: middle;\n",
       "    }\n",
       "\n",
       "    .dataframe tbody tr th {\n",
       "        vertical-align: top;\n",
       "    }\n",
       "\n",
       "    .dataframe thead th {\n",
       "        text-align: right;\n",
       "    }\n",
       "</style>\n",
       "<table border=\"1\" class=\"dataframe\">\n",
       "  <thead>\n",
       "    <tr style=\"text-align: right;\">\n",
       "      <th></th>\n",
       "      <th>total_claim_amount</th>\n",
       "    </tr>\n",
       "  </thead>\n",
       "  <tbody>\n",
       "    <tr>\n",
       "      <th>0</th>\n",
       "      <td>384.811147</td>\n",
       "    </tr>\n",
       "    <tr>\n",
       "      <th>1</th>\n",
       "      <td>566.472247</td>\n",
       "    </tr>\n",
       "    <tr>\n",
       "      <th>2</th>\n",
       "      <td>529.881344</td>\n",
       "    </tr>\n",
       "    <tr>\n",
       "      <th>3</th>\n",
       "      <td>138.130879</td>\n",
       "    </tr>\n",
       "    <tr>\n",
       "      <th>4</th>\n",
       "      <td>159.383042</td>\n",
       "    </tr>\n",
       "  </tbody>\n",
       "</table>\n",
       "</div>"
      ],
      "text/plain": [
       "   total_claim_amount\n",
       "0          384.811147\n",
       "1          566.472247\n",
       "2          529.881344\n",
       "3          138.130879\n",
       "4          159.383042"
      ]
     },
     "execution_count": 13,
     "metadata": {},
     "output_type": "execute_result"
    }
   ],
   "source": [
    "print(y.shape)\n",
    "y.head()"
   ]
  },
  {
   "cell_type": "code",
   "execution_count": 14,
   "id": "e0f16e23",
   "metadata": {},
   "outputs": [],
   "source": [
    "# 3. Separate X_train and X_test into numerical and categorical (X_train_cat , X_train_num , X_test_cat , X_test_num)\n",
    "X_train, X_test, y_train, y_test = train_test_split(X, y, test_size=0.4, random_state=100)"
   ]
  },
  {
   "cell_type": "code",
   "execution_count": 20,
   "id": "1c3b9b72",
   "metadata": {},
   "outputs": [
    {
     "data": {
      "text/plain": [
       "0.5088840039498896"
      ]
     },
     "execution_count": 20,
     "metadata": {},
     "output_type": "execute_result"
    }
   ],
   "source": [
    "# 8. Try a simple linear regression with all the data to see whether we are getting good results.\n",
    "lr = LinearRegression()\n",
    "model = lr.fit(X_train, y_train)\n",
    "predictions = lr.predict(X_test)\n",
    "r2_score(y_test, predictions)"
   ]
  },
  {
   "cell_type": "code",
   "execution_count": 21,
   "id": "ffefc077",
   "metadata": {},
   "outputs": [],
   "source": [
    "# 9. Great! Now define a function that takes a list of models and train (and tests) them\n",
    "# so we can try a lot of them without repeating code.\n",
    "# 10. Use the function to check LinearRegressor and KNeighborsRegressor.\n",
    "# 11. You can check also the MLPRegressor for this task!\n",
    "\n",
    "def train_test(X, y, test_size=0.5, random_state=100):\n",
    "    X_train, X_test, y_train, y_test = train_test_split(X, y, test_size=test_size,random_state=random_state)\n",
    "    return X_train, y_train, X_test, y_test\n",
    "\n",
    "def linear_regression(X_train, y_train):\n",
    "    lr = LinearRegression(fit_intercept=True)\n",
    "    model = lr.fit(X_train,y_train)\n",
    "    return model\n",
    "\n",
    "def knn_regression(X_train, y_train, k_value):\n",
    "    kr = KNeighborsRegressor(n_neighbors=k_value)\n",
    "    kmodel = kr.fit(X_train, y_train)\n",
    "    return kmodel\n",
    "\n",
    "def model_metrics(X_test, y_test, model):\n",
    "    y_pred = model.predict(X_test)\n",
    "    r2 = r2_score(y_test, y_pred)\n",
    "    mse = mean_squared_error(y_test, y_pred)\n",
    "    rmse = math.sqrt(mse)\n",
    "    mae = mean_absolute_error(y_test, y_pred)\n",
    "    print('R2 Score: {:.3f}'.format(r2), '\\nMean Squared Error: {:.3f}'.format(mse), '\\nRoot MSE: {:.3f}'.format(rmse), '\\nMean Absolute Error: {:.3f}'.format(mae) )"
   ]
  },
  {
   "cell_type": "code",
   "execution_count": 29,
   "id": "41be92ec",
   "metadata": {},
   "outputs": [
    {
     "name": "stdout",
     "output_type": "stream",
     "text": [
      "R2 Score: 0.526 \n",
      "Mean Squared Error: 19209.698 \n",
      "Root MSE: 138.599 \n",
      "Mean Absolute Error: 110.664\n"
     ]
    }
   ],
   "source": [
    "# Linear Model 1:\n",
    "\n",
    "X_train, y_train, X_test, y_test = train_test(X, y, test_size=0.5, random_state=50)\n",
    "lm_1 = linear_regression(X_train, y_train)\n",
    "model_metrics(X_test,y_test,lm_1)\n"
   ]
  },
  {
   "cell_type": "code",
   "execution_count": 27,
   "id": "4c8ae8ac",
   "metadata": {},
   "outputs": [
    {
     "name": "stdout",
     "output_type": "stream",
     "text": [
      "R2 Score: 0.514 \n",
      "Mean Squared Error: 18890.993 \n",
      "Root MSE: 137.445 \n",
      "Mean Absolute Error: 109.165\n"
     ]
    }
   ],
   "source": [
    "# Linear Model 2:\n",
    "\n",
    "X_train, y_train, X_test, y_test = train_test(X, y, test_size=0.5, random_state=100)\n",
    "lm_2 = linear_regression(X_train, y_train)\n",
    "model_metrics(X_test,y_test,lm_2)"
   ]
  },
  {
   "cell_type": "code",
   "execution_count": 30,
   "id": "f7f6b4a9",
   "metadata": {},
   "outputs": [
    {
     "name": "stdout",
     "output_type": "stream",
     "text": [
      "R2 Score: 0.424 \n",
      "Mean Squared Error: 23310.024 \n",
      "Root MSE: 152.676 \n",
      "Mean Absolute Error: 107.484\n"
     ]
    }
   ],
   "source": [
    "# KNN Model 1:\n",
    "\n",
    "X_train, y_train, X_test, y_test = train_test(X, y, test_size=0.5, random_state=50)\n",
    "knn_1 = knn_regression(X_train, y_train, 2)\n",
    "model_metrics(X_test,y_test,knn_1)"
   ]
  },
  {
   "cell_type": "code",
   "execution_count": 31,
   "id": "65b66dc4",
   "metadata": {},
   "outputs": [
    {
     "name": "stdout",
     "output_type": "stream",
     "text": [
      "R2 Score: 0.519 \n",
      "Mean Squared Error: 19479.592 \n",
      "Root MSE: 139.569 \n",
      "Mean Absolute Error: 104.344\n"
     ]
    }
   ],
   "source": [
    "# KNN Model 2:\n",
    "\n",
    "X_train, y_train, X_test, y_test = train_test(X, y, test_size=0.5, random_state=50)\n",
    "knn_2 = knn_regression(X_train, y_train, 5)\n",
    "model_metrics(X_test,y_test,knn_2)"
   ]
  },
  {
   "cell_type": "code",
   "execution_count": 32,
   "id": "ca13018e",
   "metadata": {},
   "outputs": [
    {
     "name": "stdout",
     "output_type": "stream",
     "text": [
      "R2 Score: 0.524 \n",
      "Mean Squared Error: 19267.412 \n",
      "Root MSE: 138.807 \n",
      "Mean Absolute Error: 106.356\n"
     ]
    }
   ],
   "source": [
    "# KNN Model 3:\n",
    "\n",
    "X_train, y_train, X_test, y_test = train_test(X, y, test_size=0.5, random_state=50)\n",
    "knn_3 = knn_regression(X_train, y_train, 10)\n",
    "model_metrics(X_test,y_test,knn_3)"
   ]
  },
  {
   "cell_type": "code",
   "execution_count": null,
   "id": "a3e2df62",
   "metadata": {},
   "outputs": [],
   "source": [
    "# 12. Check and discuss the results.\n",
    "\n",
    "# Overall, based on the metric provided, the Linear Regression model performs slightly better than the KNN model in predicting the 'total_claim_amount'. However, the difference in performance is not very large."
   ]
  },
  {
   "cell_type": "code",
   "execution_count": null,
   "id": "b2fcc106",
   "metadata": {},
   "outputs": [],
   "source": []
  }
 ],
 "metadata": {
  "kernelspec": {
   "display_name": "Python 3 (ipykernel)",
   "language": "python",
   "name": "python3"
  },
  "language_info": {
   "codemirror_mode": {
    "name": "ipython",
    "version": 3
   },
   "file_extension": ".py",
   "mimetype": "text/x-python",
   "name": "python",
   "nbconvert_exporter": "python",
   "pygments_lexer": "ipython3",
   "version": "3.9.13"
  }
 },
 "nbformat": 4,
 "nbformat_minor": 5
}
